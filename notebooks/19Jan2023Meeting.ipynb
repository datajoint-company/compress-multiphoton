{
 "cells": [
  {
   "cell_type": "code",
   "execution_count": null,
   "id": "9c0eb316-099b-4eec-991b-b71a7b7a6a22",
   "metadata": {},
   "outputs": [],
   "source": [
    "import numpy as np\n",
    "from tifffile import TiffFile\n",
    "from compress_multiphoton import compute_quantal_size, analyze\n",
    "import plotly.graph_objects as go\n",
    "import matplotlib.pyplot as plt"
   ]
  },
  {
   "cell_type": "markdown",
   "id": "2a54b08d-5e78-4b5f-b8b7-8a6f31b9ee1c",
   "metadata": {},
   "source": [
    "## Read movie"
   ]
  },
  {
   "cell_type": "code",
   "execution_count": null,
   "id": "c672bb0c-602b-462f-a7f4-b53f5739f2ae",
   "metadata": {},
   "outputs": [],
   "source": [
    "file = '../testdata/DatasetA.npy'\n",
    "scan = np.load(file)\n",
    "print(f\"Movie shape: {scan.shape}\")"
   ]
  },
  {
   "cell_type": "markdown",
   "id": "e1d2fbea-2782-41ae-ba74-f3f28b635799",
   "metadata": {},
   "source": [
    "## Quantal size estimation"
   ]
  },
  {
   "cell_type": "code",
   "execution_count": null,
   "id": "4e86b238-a3a7-45f1-a3cf-4c27b42ef867",
   "metadata": {},
   "outputs": [],
   "source": [
    "analyze(scan)"
   ]
  },
  {
   "cell_type": "markdown",
   "id": "59499fe9-554c-43a2-b38f-8f356ca81129",
   "metadata": {},
   "source": [
    "## Mean Image"
   ]
  },
  {
   "cell_type": "code",
   "execution_count": null,
   "id": "0417fd9c-82dc-4527-ba99-701f60f503b6",
   "metadata": {},
   "outputs": [],
   "source": [
    "quantal_size = 427 # This number may slightly vary at each run as it is estimated through robust fitting.\n",
    "\n",
    "plt.imshow((scan.mean(0)/quantal_size), cmap='gray')\n",
    "cbar = plt.colorbar(fraction=0.05, pad=0.1)\n",
    "ax2 = cbar.ax.twinx()\n",
    "ymin, ymax = cbar.ax.get_ylim()\n",
    "ax2.set_ylim([ymin * quantal_size, ymax * quantal_size]);"
   ]
  },
  {
   "cell_type": "markdown",
   "id": "422b2c6a-fdf5-4f43-ac25-c38a1c9bed6a",
   "metadata": {},
   "source": [
    "## Histogram of Mean Intensity"
   ]
  },
  {
   "cell_type": "code",
   "execution_count": null,
   "id": "aaf5aacc-497e-4e92-8518-48c356412fd0",
   "metadata": {},
   "outputs": [],
   "source": [
    "fig, ax = plt.subplots(1)\n",
    "p = ax.hist((scan.mean(0).flatten()), bins=1000, log=True)\n",
    "plt.title('Historgram of Mean Intensity')\n",
    "ax.set_xlabel('Intensity')\n",
    "ax.set_ylabel('N')\n",
    "\n",
    "intensity = lambda x: p\n",
    "\n",
    "photons = lambda x: intensity / quantal_size\n",
    "\n",
    "ax2 = ax.twiny()\n",
    "xmin, xmax = ax.get_xlim()\n",
    "ax2.set_xlim(xmin/quantal_size, xmax/quantal_size)\n",
    "ax2.set_xlabel('Photon');"
   ]
  },
  {
   "cell_type": "markdown",
   "id": "f41e433a-3bb9-4c30-9a40-3b0385c3b8ac",
   "metadata": {},
   "source": [
    "## Difference Image\n",
    "Image = Frame(t+1) - Frame(t)"
   ]
  },
  {
   "cell_type": "code",
   "execution_count": null,
   "id": "dc78f124-759a-47ba-8a4c-2c1284f84777",
   "metadata": {},
   "outputs": [],
   "source": [
    "t = 0\n",
    "plt.imshow((scan[t+1].astype(float)-scan[t].astype(float)), cmap='seismic',clim=[-2000, 2000]);"
   ]
  }
 ],
 "metadata": {
  "kernelspec": {
   "display_name": "Python 3 (ipykernel)",
   "language": "python",
   "name": "python3"
  },
  "language_info": {
   "codemirror_mode": {
    "name": "ipython",
    "version": 3
   },
   "file_extension": ".py",
   "mimetype": "text/x-python",
   "name": "python",
   "nbconvert_exporter": "python",
   "pygments_lexer": "ipython3",
   "version": "3.9.13"
  }
 },
 "nbformat": 4,
 "nbformat_minor": 5
}
