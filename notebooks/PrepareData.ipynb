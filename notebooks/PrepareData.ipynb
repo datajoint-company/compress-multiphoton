{
 "cells": [
  {
   "cell_type": "markdown",
   "id": "832a9d76",
   "metadata": {},
   "source": [
    "# Prepare Test Data\n",
    "This notebook prepares test data. The raw test data are not included in the repo.  The data are not committed to GitHub. Please request the raw data or use your own."
   ]
  },
  {
   "cell_type": "code",
   "execution_count": null,
   "id": "c57667be",
   "metadata": {},
   "outputs": [],
   "source": [
    "from tifffile import TiffFile\n",
    "import numpy as np"
   ]
  },
  {
   "cell_type": "code",
   "execution_count": null,
   "id": "35064b80",
   "metadata": {},
   "outputs": [],
   "source": [
    "tiff = TiffFile(f'../testdata/microns/17797_4_7_3_1_500.tif')\n",
    "scan = np.stack([t.asarray() for t in tiff.pages])\n",
    "scan = np.transpose(scan, (2,0,1))  # frame number should be first\n",
    "scan = scan[:,120:,:]\n",
    "np.savez('../testdata/movie1', scan=scan)"
   ]
  },
  {
   "cell_type": "code",
   "execution_count": null,
   "id": "e71c15b2",
   "metadata": {},
   "outputs": [],
   "source": [
    "tiff = TiffFile(f'../testdata/Darcy/m271_005.tif')\n",
    "scan = tiff.asarray()\n",
    "scan = scan[1500:,:,:]\n",
    "scan = scan[:500,:,:]\n",
    "np.savez('../testdata/movie2', scan=scan)"
   ]
  }
 ],
 "metadata": {
  "kernelspec": {
   "display_name": "benv",
   "language": "python",
   "name": "benv"
  },
  "language_info": {
   "codemirror_mode": {
    "name": "ipython",
    "version": 3
   },
   "file_extension": ".py",
   "mimetype": "text/x-python",
   "name": "python",
   "nbconvert_exporter": "python",
   "pygments_lexer": "ipython3",
   "version": "3.10.4"
  }
 },
 "nbformat": 4,
 "nbformat_minor": 5
}
